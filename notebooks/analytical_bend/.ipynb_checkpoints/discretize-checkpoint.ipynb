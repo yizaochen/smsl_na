{
 "cells": [
  {
   "cell_type": "code",
   "execution_count": 1,
   "id": "b6bb0f9f-7660-4412-b4ed-b4e52541625d",
   "metadata": {},
   "outputs": [],
   "source": [
    "import numpy as np"
   ]
  },
  {
   "cell_type": "code",
   "execution_count": 5,
   "id": "43b96eae-6dd6-43f6-813d-192f8c8ff7f2",
   "metadata": {},
   "outputs": [],
   "source": [
    "discretize_array = np.zeros((1, 5, 3))"
   ]
  },
  {
   "cell_type": "code",
   "execution_count": 6,
   "id": "afd6f445-3c15-422a-b3de-fdcc604288ec",
   "metadata": {},
   "outputs": [
    {
     "data": {
      "text/plain": [
       "array([[[0., 0., 0.],\n",
       "        [0., 0., 0.],\n",
       "        [0., 0., 0.],\n",
       "        [0., 0., 0.],\n",
       "        [0., 0., 0.]]])"
      ]
     },
     "execution_count": 6,
     "metadata": {},
     "output_type": "execute_result"
    }
   ],
   "source": [
    "discretize_array"
   ]
  },
  {
   "cell_type": "code",
   "execution_count": 7,
   "id": "452e0f38-67fe-4bda-8bbd-ad4b20da7ca5",
   "metadata": {},
   "outputs": [
    {
     "data": {
      "text/plain": [
       "array([0., 0., 0.])"
      ]
     },
     "execution_count": 7,
     "metadata": {},
     "output_type": "execute_result"
    }
   ],
   "source": [
    "discretize_array[0,0]"
   ]
  },
  {
   "cell_type": "code",
   "execution_count": null,
   "id": "6ca49797-8b6b-4a9f-a96f-60e1c49dbc6c",
   "metadata": {},
   "outputs": [],
   "source": []
  }
 ],
 "metadata": {
  "kernelspec": {
   "display_name": "Python 3 (ipykernel)",
   "language": "python",
   "name": "python3"
  },
  "language_info": {
   "codemirror_mode": {
    "name": "ipython",
    "version": 3
   },
   "file_extension": ".py",
   "mimetype": "text/x-python",
   "name": "python",
   "nbconvert_exporter": "python",
   "pygments_lexer": "ipython3",
   "version": "3.8.12"
  }
 },
 "nbformat": 4,
 "nbformat_minor": 5
}
