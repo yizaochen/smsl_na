{
 "cells": [
  {
   "cell_type": "code",
   "execution_count": 1,
   "id": "59022aeb-86c3-492f-801a-927f8dc602b7",
   "metadata": {},
   "outputs": [],
   "source": [
    "import MDAnalysis as mda"
   ]
  },
  {
   "cell_type": "code",
   "execution_count": null,
   "id": "8f4f1a4b-2ee3-4431-a3e7-e0b7757bdbac",
   "metadata": {},
   "outputs": [],
   "source": [
    "pdb = 'bdna+bdna.npt4.all.pdb'"
   ]
  }
 ],
 "metadata": {
  "kernelspec": {
   "display_name": "Python 3",
   "language": "python",
   "name": "python3"
  },
  "language_info": {
   "codemirror_mode": {
    "name": "ipython",
    "version": 3
   },
   "file_extension": ".py",
   "mimetype": "text/x-python",
   "name": "python",
   "nbconvert_exporter": "python",
   "pygments_lexer": "ipython3",
   "version": "3.8.12"
  }
 },
 "nbformat": 4,
 "nbformat_minor": 5
}
