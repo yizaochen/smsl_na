{
 "cells": [
  {
   "cell_type": "code",
   "execution_count": null,
   "id": "64747aa1-daaf-4dcb-8103-6d1ddce9ee20",
   "metadata": {},
   "outputs": [],
   "source": [
    "from os import path\n",
    "from trajectory.pdb_xtc import BeforeClean"
   ]
  },
  {
   "cell_type": "code",
   "execution_count": null,
   "id": "cbeb6aea-878b-4efc-bd39-4104d0cc57b0",
   "metadata": {},
   "outputs": [],
   "source": [
    "host = 'pnas_dna'"
   ]
  },
  {
   "cell_type": "code",
   "execution_count": null,
   "id": "069b1fde-4db7-40bf-a998-77769fb52b91",
   "metadata": {},
   "outputs": [],
   "source": [
    "path_agent = BeforeClean(host, initialize=True)"
   ]
  },
  {
   "cell_type": "code",
   "execution_count": null,
   "id": "acd8767b-6762-4f42-8901-007de7df489b",
   "metadata": {},
   "outputs": [],
   "source": [
    "prefix_folder = '/home/yizaochen/codes/dna_rna/all_systems/ctct_21mer/bdna+bdna/input/allatoms'\n",
    "old_pdb = path.join(prefix_folder, 'bdna+bdna.npt4.all.pdb')\n",
    "old_xtc = path.join(prefix_folder, 'bdna+bdna.all.xtc')\n",
    "#path_agent.copy_input_pdb_xtc(old_pdb, old_xtc)"
   ]
  },
  {
   "cell_type": "code",
   "execution_count": null,
   "id": "c426287d-da4a-4547-a81e-7758d1ee7a3b",
   "metadata": {},
   "outputs": [],
   "source": [
    "path_agent.vmd_check_pdb_xtc()"
   ]
  }
 ],
 "metadata": {
  "kernelspec": {
   "display_name": "Python 3 (ipykernel)",
   "language": "python",
   "name": "python3"
  },
  "language_info": {
   "codemirror_mode": {
    "name": "ipython",
    "version": 3
   },
   "file_extension": ".py",
   "mimetype": "text/x-python",
   "name": "python",
   "nbconvert_exporter": "python",
   "pygments_lexer": "ipython3",
   "version": "3.8.12"
  }
 },
 "nbformat": 4,
 "nbformat_minor": 5
}
