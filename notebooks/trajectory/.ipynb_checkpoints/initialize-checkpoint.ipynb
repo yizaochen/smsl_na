{
 "cells": [
  {
   "cell_type": "code",
   "execution_count": 1,
   "id": "64747aa1-daaf-4dcb-8103-6d1ddce9ee20",
   "metadata": {},
   "outputs": [],
   "source": [
    "from os import path\n",
    "from trajectory.pdb_xtc import BeforeClean, Test"
   ]
  },
  {
   "cell_type": "markdown",
   "id": "8afa2b15-4e94-406e-85c0-5b23788146fc",
   "metadata": {},
   "source": [
    "### BeforeClean"
   ]
  },
  {
   "cell_type": "code",
   "execution_count": null,
   "id": "cbeb6aea-878b-4efc-bd39-4104d0cc57b0",
   "metadata": {},
   "outputs": [],
   "source": [
    "host = 'pnas_dna'"
   ]
  },
  {
   "cell_type": "code",
   "execution_count": null,
   "id": "069b1fde-4db7-40bf-a998-77769fb52b91",
   "metadata": {},
   "outputs": [],
   "source": [
    "path_agent = BeforeClean(host, initialize=True)"
   ]
  },
  {
   "cell_type": "code",
   "execution_count": null,
   "id": "acd8767b-6762-4f42-8901-007de7df489b",
   "metadata": {},
   "outputs": [],
   "source": [
    "prefix_folder = '/home/yizaochen/codes/dna_rna/all_systems/ctct_21mer/bdna+bdna/input/allatoms'\n",
    "old_pdb = path.join(prefix_folder, 'bdna+bdna.npt4.all.pdb')\n",
    "old_xtc = path.join(prefix_folder, 'bdna+bdna.all.xtc')\n",
    "#path_agent.copy_input_pdb_xtc(old_pdb, old_xtc)"
   ]
  },
  {
   "cell_type": "code",
   "execution_count": null,
   "id": "c426287d-da4a-4547-a81e-7758d1ee7a3b",
   "metadata": {},
   "outputs": [],
   "source": [
    "path_agent.vmd_check_pdb_xtc()"
   ]
  },
  {
   "cell_type": "markdown",
   "id": "cf426215-5792-4d1f-a0e4-03dd9d52a092",
   "metadata": {},
   "source": [
    "### Test"
   ]
  },
  {
   "cell_type": "code",
   "execution_count": 2,
   "id": "687e83ed-e852-407d-bd63-7112514dd068",
   "metadata": {},
   "outputs": [],
   "source": [
    "host = 'pnas_dna'"
   ]
  },
  {
   "cell_type": "code",
   "execution_count": 3,
   "id": "bcea7526-581a-4f12-b03f-b979aa9cc7f4",
   "metadata": {},
   "outputs": [
    {
     "name": "stdout",
     "output_type": "stream",
     "text": [
      "mkdir /home/ytcdata/traj/\n",
      "mkdir /home/ytcdata/traj/pnas_dna\n",
      "mkdir /home/ytcdata/traj/pnas_dna/test\n"
     ]
    }
   ],
   "source": [
    "path_agent = Test(host, initialize=True)"
   ]
  },
  {
   "cell_type": "code",
   "execution_count": 4,
   "id": "06301a2d-714d-4bdf-9e0e-2fec4cab5c99",
   "metadata": {},
   "outputs": [
    {
     "name": "stdout",
     "output_type": "stream",
     "text": [
      "cp /home/ytcdata/curves_data/pnas_dna/pdb_xtc/input.backup.pdb /home/ytcdata/traj/pnas_dna/test/input.pdb\n",
      "cp /home/ytcdata/curves_data/pnas_dna/pdb_xtc/input.xtc /home/ytcdata/traj/pnas_dna/test/input.xtc\n",
      "/home/ytcdata/traj/pnas_dna/test/input.pdb already exist\n",
      "/home/ytcdata/traj/pnas_dna/test/input.xtc already exist\n"
     ]
    }
   ],
   "source": [
    "prefix_folder = '/home/ytcdata/curves_data/pnas_dna/pdb_xtc'\n",
    "old_pdb = path.join(prefix_folder, 'input.backup.pdb')\n",
    "old_xtc = path.join(prefix_folder, 'input.xtc')\n",
    "path_agent.copy_input_pdb_xtc(old_pdb, old_xtc)"
   ]
  },
  {
   "cell_type": "code",
   "execution_count": 5,
   "id": "48efb648-8acc-453c-a846-04a30f8ac110",
   "metadata": {},
   "outputs": [
    {
     "name": "stdout",
     "output_type": "stream",
     "text": [
      "vmd -pdb /home/ytcdata/traj/pnas_dna/test/input.pdb /home/ytcdata/traj/pnas_dna/test/input.xtc\n"
     ]
    }
   ],
   "source": [
    "path_agent.vmd_check_pdb_xtc()"
   ]
  },
  {
   "cell_type": "code",
   "execution_count": null,
   "id": "53cb9522-c187-4d6f-b6d7-e0c08dd68d72",
   "metadata": {},
   "outputs": [],
   "source": []
  }
 ],
 "metadata": {
  "kernelspec": {
   "display_name": "Python 3 (ipykernel)",
   "language": "python",
   "name": "python3"
  },
  "language_info": {
   "codemirror_mode": {
    "name": "ipython",
    "version": 3
   },
   "file_extension": ".py",
   "mimetype": "text/x-python",
   "name": "python",
   "nbconvert_exporter": "python",
   "pygments_lexer": "ipython3",
   "version": "3.8.12"
  }
 },
 "nbformat": 4,
 "nbformat_minor": 5
}
