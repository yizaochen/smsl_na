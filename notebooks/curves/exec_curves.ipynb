{
 "cells": [
  {
   "cell_type": "code",
   "execution_count": 1,
   "id": "b567bbef-99b3-4e7f-9633-c8ba559397ee",
   "metadata": {},
   "outputs": [],
   "source": [
    "from curves.curves import ExecCurvesAgent"
   ]
  },
  {
   "cell_type": "code",
   "execution_count": 2,
   "id": "1c1f197e-a36e-4401-9d45-44baff4ec1a9",
   "metadata": {},
   "outputs": [
    {
     "name": "stderr",
     "output_type": "stream",
     "text": [
      "/home/yizaochen/miniconda3/envs/smsl_na/lib/python3.8/site-packages/MDAnalysis/topology/PDBParser.py:317: UserWarning: Element information is missing, elements attribute will not be populated. If needed these can be guessed using MDAnalysis.topology.guessers.\n",
      "  warnings.warn(\"Element information is missing, elements attribute \"\n"
     ]
    }
   ],
   "source": [
    "rootfolder = '/home/ytcdata/curves_data'\n",
    "host = 'pnas_dna'\n",
    "exe_agent = ExecCurvesAgent(rootfolder, host)"
   ]
  },
  {
   "cell_type": "code",
   "execution_count": 3,
   "id": "de486cfc-bf66-435f-8d36-f8956fc24df5",
   "metadata": {},
   "outputs": [
    {
     "name": "stdout",
     "output_type": "stream",
     "text": [
      "Curves+ for pnas_dna, Frame-ID: 0\n"
     ]
    }
   ],
   "source": [
    "start_frame = 0 # start from 0\n",
    "end_frame = 10\n",
    "exe_agent.execute_curve_plus(start_frame, end_frame)"
   ]
  },
  {
   "cell_type": "code",
   "execution_count": 1,
   "id": "5b809b21-7d71-489d-8db4-f9b44cd034b5",
   "metadata": {},
   "outputs": [],
   "source": [
    "test_lst = list(range(0, 10001))"
   ]
  },
  {
   "cell_type": "code",
   "execution_count": 3,
   "id": "c497e91a-a9d9-491c-8b4f-69bd52eedb0b",
   "metadata": {},
   "outputs": [
    {
     "data": {
      "text/plain": [
       "10000"
      ]
     },
     "execution_count": 3,
     "metadata": {},
     "output_type": "execute_result"
    }
   ],
   "source": [
    "test_lst[-1]"
   ]
  },
  {
   "cell_type": "code",
   "execution_count": null,
   "id": "feeb049f-77f9-4344-a5fe-e2ee6f1045c8",
   "metadata": {},
   "outputs": [],
   "source": []
  }
 ],
 "metadata": {
  "kernelspec": {
   "display_name": "Python 3",
   "language": "python",
   "name": "python3"
  },
  "language_info": {
   "codemirror_mode": {
    "name": "ipython",
    "version": 3
   },
   "file_extension": ".py",
   "mimetype": "text/x-python",
   "name": "python",
   "nbconvert_exporter": "python",
   "pygments_lexer": "ipython3",
   "version": "3.8.12"
  }
 },
 "nbformat": 4,
 "nbformat_minor": 5
}
