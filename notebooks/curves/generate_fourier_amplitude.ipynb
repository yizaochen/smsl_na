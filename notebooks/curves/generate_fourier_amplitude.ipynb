{
 "cells": [
  {
   "cell_type": "code",
   "execution_count": 1,
   "id": "42a5c327-e86f-43af-9337-9725e5218b9c",
   "metadata": {},
   "outputs": [],
   "source": [
    "from curves.persistence_length import LNormTheta, FourierShape"
   ]
  },
  {
   "cell_type": "code",
   "execution_count": 2,
   "id": "c5ce42f0-385d-4100-995d-b484473fe0dd",
   "metadata": {
    "tags": []
   },
   "outputs": [],
   "source": [
    "rootfolder = '/home/ytcdata/curves_data'\n",
    "host = 'pnas_rna'"
   ]
  },
  {
   "cell_type": "code",
   "execution_count": 3,
   "id": "f81ae1df-c62f-4286-b1b0-6c30d8cad9a9",
   "metadata": {},
   "outputs": [
    {
     "name": "stderr",
     "output_type": "stream",
     "text": [
      "/home/yizaochen/miniconda3/envs/smsl_na/lib/python3.8/site-packages/MDAnalysis/topology/PDBParser.py:317: UserWarning: Element information is missing, elements attribute will not be populated. If needed these can be guessed using MDAnalysis.topology.guessers.\n",
      "  warnings.warn(\"Element information is missing, elements attribute \"\n"
     ]
    }
   ],
   "source": [
    "l_agent = LNormTheta(rootfolder, host)"
   ]
  },
  {
   "cell_type": "code",
   "execution_count": 4,
   "id": "932674f6-6cfd-421a-8d71-07a051837cd5",
   "metadata": {},
   "outputs": [
    {
     "name": "stdout",
     "output_type": "stream",
     "text": [
      "make /home/ytcdata/curves_data/pnas_dna/bend_shape/l_norm_theta.hdf5\n"
     ]
    }
   ],
   "source": [
    "#l_agent.make_l_norm_theta_hd5()"
   ]
  },
  {
   "cell_type": "code",
   "execution_count": 4,
   "id": "d3439c3d-bfc5-4e36-bf26-d539f53d77eb",
   "metadata": {},
   "outputs": [
    {
     "name": "stdout",
     "output_type": "stream",
     "text": [
      "Read /home/ytcdata/curves_data/pnas_rna/bend_shape/l_norm_theta.hdf5\n",
      "(1050105,)\n"
     ]
    },
    {
     "data": {
      "text/plain": [
       "{'Frame_ID': array([    0,     0,     0, ..., 10000, 10000, 10000]),\n",
       " 'i': array([ 0,  0,  0, ..., 12, 12, 13]),\n",
       " 'j': array([ 1,  2,  3, ..., 13, 14, 14]),\n",
       " '|l_i|': array([3.0048935, 3.0048935, 3.0048935, ..., 2.879791 , 2.879791 ,\n",
       "        2.2977395], dtype=float32),\n",
       " '|l_j|': array([3.1651828, 2.9912295, 3.2653453, ..., 2.2977395, 2.5731242,\n",
       "        2.5731242], dtype=float32),\n",
       " 'theta': array([0.03156445, 0.07468289, 0.11403336, ..., 0.13258427, 0.16312194,\n",
       "        0.03466111])}"
      ]
     },
     "execution_count": 4,
     "metadata": {},
     "output_type": "execute_result"
    }
   ],
   "source": [
    "l_agent.read_l_modulus_theta_hd5()\n",
    "print(l_agent.d_result['Frame_ID'].shape)\n",
    "l_agent.d_result"
   ]
  },
  {
   "cell_type": "code",
   "execution_count": 5,
   "id": "314fa66f-4749-442e-b553-5e39c9dcb6d3",
   "metadata": {},
   "outputs": [],
   "source": [
    "shape = FourierShape(rootfolder, host)"
   ]
  },
  {
   "cell_type": "code",
   "execution_count": 6,
   "id": "8e563889-0b89-49a8-924b-5a70abb45675",
   "metadata": {},
   "outputs": [
    {
     "name": "stdout",
     "output_type": "stream",
     "text": [
      "Read /home/ytcdata/curves_data/pnas_rna/bend_shape/l_norm_theta.hdf5\n",
      "make /home/ytcdata/curves_data/pnas_rna/bend_shape/fourier_amplitude.hdf5\n"
     ]
    }
   ],
   "source": [
    "shape.make_fourier_amp_h5()"
   ]
  },
  {
   "cell_type": "code",
   "execution_count": 7,
   "id": "10d2905b-9d79-447c-8da4-4238b7b09e11",
   "metadata": {},
   "outputs": [
    {
     "name": "stdout",
     "output_type": "stream",
     "text": [
      "Read /home/ytcdata/curves_data/pnas_rna/bend_shape/fourier_amplitude.hdf5\n"
     ]
    },
    {
     "data": {
      "text/plain": [
       "{'0': array([0.20926516, 0.33855133, 0.35879872, ..., 0.39997065, 0.52046111,\n",
       "        0.82765354]),\n",
       " '1': array([-0.07233481, -0.01645528, -0.10793844, ..., -0.17099965,\n",
       "        -0.04164831, -0.02844084]),\n",
       " '2': array([ 0.00820807,  0.01360626,  0.04922959, ..., -0.01730675,\n",
       "        -0.13217849, -0.22239458]),\n",
       " '3': array([-0.00998224, -0.03885426, -0.00386508, ...,  0.05586159,\n",
       "         0.0382604 ,  0.05240037]),\n",
       " '4': array([ 0.02670303,  0.02199906,  0.0253417 , ..., -0.01714314,\n",
       "        -0.05919124, -0.0624987 ]),\n",
       " '5': array([-0.01416843, -0.03877385, -0.01586573, ..., -0.03382021,\n",
       "         0.00151534, -0.03583823]),\n",
       " '6': array([ 0.00441408,  0.00522918,  0.00628194, ..., -0.02241488,\n",
       "        -0.0034745 ,  0.00516135]),\n",
       " '7': array([ 0.00118897,  0.01513164,  0.03384828, ..., -0.0003518 ,\n",
       "         0.00275155,  0.00500518]),\n",
       " '8': array([ 0.0184792 , -0.01647825, -0.01094651, ...,  0.01826813,\n",
       "         0.01343489,  0.0059444 ]),\n",
       " '9': array([-0.0302208 ,  0.01807274,  0.00936581, ...,  0.0054466 ,\n",
       "        -0.0081526 ,  0.00411038])}"
      ]
     },
     "execution_count": 7,
     "metadata": {},
     "output_type": "execute_result"
    }
   ],
   "source": [
    "shape.read_fourier_amp_h5()\n",
    "shape.d_result"
   ]
  },
  {
   "cell_type": "code",
   "execution_count": null,
   "id": "d96d8b64-692a-4786-8fc0-c049deef9961",
   "metadata": {},
   "outputs": [],
   "source": []
  }
 ],
 "metadata": {
  "kernelspec": {
   "display_name": "Python 3 (ipykernel)",
   "language": "python",
   "name": "python3"
  },
  "language_info": {
   "codemirror_mode": {
    "name": "ipython",
    "version": 3
   },
   "file_extension": ".py",
   "mimetype": "text/x-python",
   "name": "python",
   "nbconvert_exporter": "python",
   "pygments_lexer": "ipython3",
   "version": "3.8.12"
  }
 },
 "nbformat": 4,
 "nbformat_minor": 5
}
