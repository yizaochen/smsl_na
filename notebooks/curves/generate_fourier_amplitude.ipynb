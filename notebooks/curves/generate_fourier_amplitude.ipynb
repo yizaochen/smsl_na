{
 "cells": [
  {
   "cell_type": "code",
   "execution_count": 1,
   "id": "42a5c327-e86f-43af-9337-9725e5218b9c",
   "metadata": {},
   "outputs": [],
   "source": [
    "from curves.persistence_length import LNormTheta"
   ]
  },
  {
   "cell_type": "code",
   "execution_count": 2,
   "id": "c5ce42f0-385d-4100-995d-b484473fe0dd",
   "metadata": {
    "tags": []
   },
   "outputs": [],
   "source": [
    "rootfolder = '/home/ytcdata/curves_data'\n",
    "host = 'pnas_dna'"
   ]
  },
  {
   "cell_type": "code",
   "execution_count": 3,
   "id": "f81ae1df-c62f-4286-b1b0-6c30d8cad9a9",
   "metadata": {},
   "outputs": [
    {
     "name": "stderr",
     "output_type": "stream",
     "text": [
      "/home/yizaochen/miniconda3/envs/smsl_na/lib/python3.8/site-packages/MDAnalysis/topology/PDBParser.py:317: UserWarning: Element information is missing, elements attribute will not be populated. If needed these can be guessed using MDAnalysis.topology.guessers.\n",
      "  warnings.warn(\"Element information is missing, elements attribute \"\n"
     ]
    }
   ],
   "source": [
    "l_agent = LNormTheta(rootfolder, host)"
   ]
  },
  {
   "cell_type": "code",
   "execution_count": 4,
   "id": "932674f6-6cfd-421a-8d71-07a051837cd5",
   "metadata": {},
   "outputs": [],
   "source": [
    "#l_agent.make_l_norm_theta_hd5()"
   ]
  },
  {
   "cell_type": "code",
   "execution_count": 5,
   "id": "d3439c3d-bfc5-4e36-bf26-d539f53d77eb",
   "metadata": {},
   "outputs": [
    {
     "name": "stdout",
     "output_type": "stream",
     "text": [
      "Read /home/ytcdata/curves_data/pnas_dna/bend_shape/l_norm_theta.hdf5\n"
     ]
    }
   ],
   "source": [
    "l_agent.read_l_modulus_theta_hd5()"
   ]
  },
  {
   "cell_type": "code",
   "execution_count": 8,
   "id": "d2766201-84c6-48e4-83b1-dbd3a4a91950",
   "metadata": {},
   "outputs": [
    {
     "data": {
      "text/plain": [
       "{'Frame_ID': array([0, 0, 0, ..., 9, 9, 9]),\n",
       " 'i': array([ 0,  0,  0, ..., 12, 12, 13]),\n",
       " 'j': array([ 1,  2,  3, ..., 13, 14, 14]),\n",
       " '|l_i|': array([3.6289747, 3.6289747, 3.6289747, ..., 3.0043044, 3.0043044,\n",
       "        3.3966656], dtype=float32),\n",
       " '|l_j|': array([2.8056517, 3.566096 , 3.3468218, ..., 3.3966656, 2.87549  ,\n",
       "        2.87549  ], dtype=float32),\n",
       " 'theta': array([0.07805015, 0.14828957, 0.18950929, ..., 0.03515806, 0.04994851,\n",
       "        0.05468777])}"
      ]
     },
     "execution_count": 8,
     "metadata": {},
     "output_type": "execute_result"
    }
   ],
   "source": [
    "l_agent.d_result"
   ]
  },
  {
   "cell_type": "code",
   "execution_count": 10,
   "id": "e7b87f95-f601-49ef-8d02-7de57197eb8c",
   "metadata": {},
   "outputs": [
    {
     "data": {
      "text/plain": [
       "(1050,)"
      ]
     },
     "execution_count": 10,
     "metadata": {},
     "output_type": "execute_result"
    }
   ],
   "source": [
    "l_agent.d_result['Frame_ID'].shape"
   ]
  },
  {
   "cell_type": "code",
   "execution_count": null,
   "id": "314fa66f-4749-442e-b553-5e39c9dcb6d3",
   "metadata": {},
   "outputs": [],
   "source": []
  }
 ],
 "metadata": {
  "kernelspec": {
   "display_name": "Python 3 (ipykernel)",
   "language": "python",
   "name": "python3"
  },
  "language_info": {
   "codemirror_mode": {
    "name": "ipython",
    "version": 3
   },
   "file_extension": ".py",
   "mimetype": "text/x-python",
   "name": "python",
   "nbconvert_exporter": "python",
   "pygments_lexer": "ipython3",
   "version": "3.8.12"
  }
 },
 "nbformat": 4,
 "nbformat_minor": 5
}
