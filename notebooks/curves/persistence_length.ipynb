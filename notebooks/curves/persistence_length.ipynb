{
 "cells": [
  {
   "cell_type": "code",
   "execution_count": null,
   "id": "804820d6-c184-4e73-b924-da4ea93dd35f",
   "metadata": {},
   "outputs": [],
   "source": [
    "from curves.persistence_length import BigWindowPersistenceLength, SmallWindowPersistenceLength"
   ]
  },
  {
   "cell_type": "code",
   "execution_count": null,
   "id": "971668f3-623a-4d11-bbcb-63166290c0df",
   "metadata": {},
   "outputs": [],
   "source": [
    "rootfolder = '/home/ytcdata/curves_data'\n",
    "host = 'pnas_dna'"
   ]
  },
  {
   "cell_type": "code",
   "execution_count": null,
   "id": "3130face-0c68-4118-bc2e-d224d6a217c1",
   "metadata": {},
   "outputs": [],
   "source": [
    "big_agent = BigWindowPersistenceLength(rootfolder, host)"
   ]
  },
  {
   "cell_type": "code",
   "execution_count": null,
   "id": "4aea406d-b127-437a-87b9-3f78741fae27",
   "metadata": {},
   "outputs": [],
   "source": [
    "#big_agent.make_lp_big_wn_csv()\n",
    "big_agent.read_lp_big_wn_csv()\n",
    "big_agent.df_lp"
   ]
  },
  {
   "cell_type": "code",
   "execution_count": null,
   "id": "a7aef13d-ae03-4152-8cc5-d4100abb56a5",
   "metadata": {},
   "outputs": [],
   "source": [
    "\"\"\"\n",
    "if host in ['pnas_dna', 'pnas_rna']:\n",
    "    n_frames_per_window = 2000\n",
    "else:\n",
    "    n_frames_per_window = 5000\n",
    "\"\"\"\n",
    "n_frames_per_window = 4"
   ]
  },
  {
   "cell_type": "code",
   "execution_count": null,
   "id": "1776596d-fcd4-4df3-aa3a-74ebe15e5cd4",
   "metadata": {},
   "outputs": [],
   "source": [
    "small_agent = SmallWindowPersistenceLength(rootfolder, host)"
   ]
  },
  {
   "cell_type": "code",
   "execution_count": null,
   "id": "d541d677-8a24-419d-9a07-56a5ceef3ba9",
   "metadata": {},
   "outputs": [],
   "source": [
    "#small_agent.make_lp_small_wn_csv()\n",
    "small_agent.read_lp_small_wn_csv()\n",
    "small_agent.df_lp"
   ]
  },
  {
   "cell_type": "code",
   "execution_count": null,
   "id": "2368d142-9940-47a9-845e-224a397eebbc",
   "metadata": {},
   "outputs": [],
   "source": [
    "mode_id = 2\n",
    "small_agent.print_avg_std()"
   ]
  }
 ],
 "metadata": {
  "kernelspec": {
   "display_name": "Python 3 (ipykernel)",
   "language": "python",
   "name": "python3"
  },
  "language_info": {
   "codemirror_mode": {
    "name": "ipython",
    "version": 3
   },
   "file_extension": ".py",
   "mimetype": "text/x-python",
   "name": "python",
   "nbconvert_exporter": "python",
   "pygments_lexer": "ipython3",
   "version": "3.8.12"
  }
 },
 "nbformat": 4,
 "nbformat_minor": 5
}
