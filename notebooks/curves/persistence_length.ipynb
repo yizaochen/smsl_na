{
 "cells": [
  {
   "cell_type": "code",
   "execution_count": 2,
   "id": "804820d6-c184-4e73-b924-da4ea93dd35f",
   "metadata": {},
   "outputs": [],
   "source": [
    "from curves.persistence_length import BigWindowPersistenceLength, SmallWindowPersistenceLength"
   ]
  },
  {
   "cell_type": "code",
   "execution_count": 34,
   "id": "971668f3-623a-4d11-bbcb-63166290c0df",
   "metadata": {},
   "outputs": [],
   "source": [
    "rootfolder = '/home/ytcdata/curves_data'\n",
    "host = 'tgtg_21mer'"
   ]
  },
  {
   "cell_type": "code",
   "execution_count": 22,
   "id": "3130face-0c68-4118-bc2e-d224d6a217c1",
   "metadata": {},
   "outputs": [],
   "source": [
    "big_agent = BigWindowPersistenceLength(rootfolder, host)"
   ]
  },
  {
   "cell_type": "code",
   "execution_count": null,
   "id": "4aea406d-b127-437a-87b9-3f78741fae27",
   "metadata": {},
   "outputs": [],
   "source": [
    "#big_agent.make_lp_big_wn_csv()\n",
    "big_agent.read_lp_big_wn_csv()\n",
    "big_agent.df_lp"
   ]
  },
  {
   "cell_type": "code",
   "execution_count": 35,
   "id": "1776596d-fcd4-4df3-aa3a-74ebe15e5cd4",
   "metadata": {},
   "outputs": [
    {
     "name": "stdout",
     "output_type": "stream",
     "text": [
      "Read /home/ytcdata/curves_data/tgtg_21mer/bend_shape/fourier_amplitude.hdf5\n"
     ]
    }
   ],
   "source": [
    "if host in ['pnas_dna', 'pnas_rna']:\n",
    "    n_frames_per_window = 2000\n",
    "else:\n",
    "    n_frames_per_window = 5000\n",
    "#n_frames_per_window = 4\n",
    "\n",
    "small_agent = SmallWindowPersistenceLength(rootfolder, host, n_frames_per_window)"
   ]
  },
  {
   "cell_type": "code",
   "execution_count": null,
   "id": "d541d677-8a24-419d-9a07-56a5ceef3ba9",
   "metadata": {},
   "outputs": [],
   "source": [
    "#small_agent.make_lp_small_wn_csv()\n",
    "small_agent.read_lp_small_wn_csv()\n",
    "small_agent.df_lp"
   ]
  },
  {
   "cell_type": "code",
   "execution_count": 38,
   "id": "2368d142-9940-47a9-845e-224a397eebbc",
   "metadata": {},
   "outputs": [
    {
     "name": "stdout",
     "output_type": "stream",
     "text": [
      "Mode-ID: 2\n",
      "Lp =49.3±5.6\n"
     ]
    }
   ],
   "source": [
    "mode_id = 2\n",
    "small_agent.print_avg_std(mode_id)"
   ]
  },
  {
   "cell_type": "markdown",
   "id": "d7678262-1c7f-488e-b783-7c2dbbf7ddec",
   "metadata": {},
   "source": [
    "### Table"
   ]
  },
  {
   "cell_type": "markdown",
   "id": "a12c73bb-478f-4885-b163-7ff44c8ef465",
   "metadata": {},
   "source": [
    "|          | mean | std |\n",
    "|----------|------|-----|\n",
    "| pnas_dna | 60.8 | 6.3 |\n",
    "| pnas_rna | 48.4 | 1.8 |\n",
    "| polyA    | 71.8 | 3.8 |\n",
    "| polyG    | 49.1 | 2.6 |\n",
    "| TpA      | 53.3 | 5.8 |\n",
    "| CpG      | 66.5 | 2.7 |\n",
    "| TpC      | 52.2 | 2.5 |\n",
    "| GpT      | 49.3 | 5.6 |"
   ]
  }
 ],
 "metadata": {
  "kernelspec": {
   "display_name": "Python 3",
   "language": "python",
   "name": "python3"
  },
  "language_info": {
   "codemirror_mode": {
    "name": "ipython",
    "version": 3
   },
   "file_extension": ".py",
   "mimetype": "text/x-python",
   "name": "python",
   "nbconvert_exporter": "python",
   "pygments_lexer": "ipython3",
   "version": "3.8.12"
  }
 },
 "nbformat": 4,
 "nbformat_minor": 5
}
