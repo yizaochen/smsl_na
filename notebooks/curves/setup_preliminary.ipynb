{
 "cells": [
  {
   "cell_type": "code",
   "execution_count": 1,
   "id": "6548b17e-ff06-4455-99fb-de1107956b2e",
   "metadata": {},
   "outputs": [],
   "source": [
    "from curves.curves import PreliminaryAgent"
   ]
  },
  {
   "cell_type": "code",
   "execution_count": 3,
   "id": "268a492e-740a-411d-8ad1-0fc974e421d3",
   "metadata": {},
   "outputs": [],
   "source": [
    "rootfolder = '/home/ytcdata/curves_data'\n",
    "host = 'pnas_dna'\n",
    "p_agent = PreliminaryAgent(rootfolder, host)"
   ]
  },
  {
   "cell_type": "code",
   "execution_count": 3,
   "id": "a44372d6-9865-46cb-98f1-cf0d51db5f1f",
   "metadata": {},
   "outputs": [
    {
     "name": "stdout",
     "output_type": "stream",
     "text": [
      "mkdir /home/ytcdata/curves_data/pnas_dna\n",
      "mkdir /home/ytcdata/curves_data/pnas_dna/pdb_xtc\n",
      "mkdir /home/ytcdata/curves_data/pnas_dna/single_pdb\n",
      "mkdir /home/ytcdata/curves_data/pnas_dna/lis\n",
      "mkdir /home/ytcdata/curves_data/pnas_dna/haxis_smooth\n",
      "mkdir /home/ytcdata/curves_data/pnas_dna/workspace\n"
     ]
    }
   ],
   "source": [
    "p_agent.initialize_folders()"
   ]
  },
  {
   "cell_type": "code",
   "execution_count": 4,
   "id": "928544bb-fa54-4a9d-b063-9a57b3595483",
   "metadata": {},
   "outputs": [
    {
     "name": "stdout",
     "output_type": "stream",
     "text": [
      "/home/ytcdata/curves_data/pnas_dna/pdb_xtc/input.pdb not exist!!!!!!\n",
      "/home/ytcdata/curves_data/pnas_dna/pdb_xtc/input.xtc not exist!!!!!!\n"
     ]
    }
   ],
   "source": [
    "p_agent.check_input_pdb_xtc()"
   ]
  },
  {
   "cell_type": "code",
   "execution_count": 5,
   "id": "9308d9d9-34f2-44b0-a44a-573aea902168",
   "metadata": {},
   "outputs": [
    {
     "name": "stdout",
     "output_type": "stream",
     "text": [
      "cp /home/ytcdata/pnas_dna/bdna+bdna/input/allatoms/bdna+bdna.perfect.pdb /home/ytcdata/curves_data/pnas_dna/pdb_xtc/input.pdb\n",
      "cp /home/ytcdata/pnas_dna/bdna+bdna/input/allatoms/bdna+bdna.fitperfect.10frames.xtc /home/ytcdata/curves_data/pnas_dna/pdb_xtc/input.xtc\n",
      "/home/ytcdata/curves_data/pnas_dna/pdb_xtc/input.pdb already exist\n",
      "/home/ytcdata/curves_data/pnas_dna/pdb_xtc/input.xtc already exist\n"
     ]
    }
   ],
   "source": [
    "old_pdb = '/home/ytcdata/pnas_dna/bdna+bdna/input/allatoms/bdna+bdna.perfect.pdb'\n",
    "old_xtc = '/home/ytcdata/pnas_dna/bdna+bdna/input/allatoms/bdna+bdna.fitperfect.10frames.xtc'\n",
    "p_agent.copy_input_pdb_xtc(old_pdb, old_xtc)"
   ]
  },
  {
   "cell_type": "code",
   "execution_count": 6,
   "id": "09878aed-666d-48b4-8f6d-345aebe1f27e",
   "metadata": {},
   "outputs": [
    {
     "name": "stdout",
     "output_type": "stream",
     "text": [
      "vmd -pdb /home/ytcdata/curves_data/pnas_dna/pdb_xtc/input.pdb /home/ytcdata/curves_data/pnas_dna/pdb_xtc/input.xtc\n"
     ]
    }
   ],
   "source": [
    "p_agent.vmd_check_pdb_xtc()"
   ]
  },
  {
   "cell_type": "code",
   "execution_count": 4,
   "id": "5a56c8f3-816a-4019-a900-67c46ac1bad2",
   "metadata": {},
   "outputs": [
    {
     "name": "stdout",
     "output_type": "stream",
     "text": [
      "Please check the resid of second strand is from 17 to 32\n",
      "If not, please add A and B at the end of the lines for the two strands by vim command\n",
      ":{line_begin},{line_end}s/$/A/g\n",
      ":{line_begin},{line_end}s/$/B/g\n",
      "Remember to trim the file becuase of PDBReader skip_header=1, skip_footer=1\n",
      "vim /home/ytcdata/curves_data/pnas_dna/pdb_xtc/input.pdb\n"
     ]
    }
   ],
   "source": [
    "p_agent.vim_check_pdb()"
   ]
  },
  {
   "cell_type": "code",
   "execution_count": 5,
   "id": "8f41ed00-9c2e-4a9d-b632-105da2047b5d",
   "metadata": {},
   "outputs": [
    {
     "name": "stdout",
     "output_type": "stream",
     "text": [
      "cp /home/ytcdata/curves_data/pnas_dna/pdb_xtc/input.pdb /home/ytcdata/curves_data/pnas_dna/pdb_xtc/input.backup.pdb\n",
      "Write PDB: /home/ytcdata/curves_data/pnas_dna/pdb_xtc/input.pdb\n"
     ]
    }
   ],
   "source": [
    "p_agent.change_input_pdb_resid(execute=True)"
   ]
  }
 ],
 "metadata": {
  "kernelspec": {
   "display_name": "Python 3 (ipykernel)",
   "language": "python",
   "name": "python3"
  },
  "language_info": {
   "codemirror_mode": {
    "name": "ipython",
    "version": 3
   },
   "file_extension": ".py",
   "mimetype": "text/x-python",
   "name": "python",
   "nbconvert_exporter": "python",
   "pygments_lexer": "ipython3",
   "version": "3.8.12"
  }
 },
 "nbformat": 4,
 "nbformat_minor": 5
}
