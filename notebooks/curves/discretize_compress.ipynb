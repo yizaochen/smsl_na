{
 "cells": [
  {
   "cell_type": "code",
   "execution_count": 1,
   "id": "e7365145-0aba-42ab-86c3-d39ca95c3c84",
   "metadata": {},
   "outputs": [],
   "source": [
    "from curves.persistence_length import FoldersBuilder, Discretizer, Compressor"
   ]
  },
  {
   "cell_type": "code",
   "execution_count": 2,
   "id": "a9ff713d-a0f9-4ed5-bafe-51033813f68c",
   "metadata": {},
   "outputs": [],
   "source": [
    "rootfolder = '/home/ytcdata/curves_data'\n",
    "host = 'pnas_dna'\n",
    "start_frame = 0\n",
    "stop_frame = 10"
   ]
  },
  {
   "cell_type": "code",
   "execution_count": 3,
   "id": "baab2269-9475-4a53-a6ab-5e1555afee4a",
   "metadata": {},
   "outputs": [
    {
     "name": "stdout",
     "output_type": "stream",
     "text": [
      "mkdir /home/ytcdata/curves_data/pnas_dna/haxis_discretize\n",
      "mkdir /home/ytcdata/curves_data/pnas_dna/discre_pdb_dcd\n",
      "mkdir /home/ytcdata/curves_data/pnas_dna/bend_shape\n"
     ]
    }
   ],
   "source": [
    "builder = FoldersBuilder(rootfolder, host)\n",
    "builder.initialize_folders()"
   ]
  },
  {
   "cell_type": "code",
   "execution_count": 4,
   "id": "2d2ddc59-1112-40b1-bf65-55785ff996db",
   "metadata": {},
   "outputs": [
    {
     "name": "stderr",
     "output_type": "stream",
     "text": [
      "/home/yizaochen/miniconda3/envs/smsl_na/lib/python3.8/site-packages/MDAnalysis/topology/PDBParser.py:317: UserWarning: Element information is missing, elements attribute will not be populated. If needed these can be guessed using MDAnalysis.topology.guessers.\n",
      "  warnings.warn(\"Element information is missing, elements attribute \"\n"
     ]
    },
    {
     "name": "stdout",
     "output_type": "stream",
     "text": [
      "Discretize smooth helical axis for pnas_dna, Frame-ID: 0\n"
     ]
    }
   ],
   "source": [
    "discretizer = Discretizer(rootfolder, host)\n",
    "discretizer.discretize_haxis_to_pdb(start_frame, stop_frame)"
   ]
  },
  {
   "cell_type": "code",
   "execution_count": 5,
   "id": "d98cebdd-0104-480a-9450-8bec9c8f93f8",
   "metadata": {},
   "outputs": [
    {
     "name": "stdout",
     "output_type": "stream",
     "text": [
      "/home/ytcdata/curves_data/pnas_dna/discre_pdb_dcd/discretized.pdb already exist\n",
      "----Enter the following into terminal----\n",
      "cd /home/ytcdata/curves_data/pnas_dna/haxis_discretize\n",
      "vmd\n",
      "----Enter the following into VMD tkconsole----\n",
      "source /home/yizaochen/codes/smsl_na/curves/tcl_scripts/make_haxis.tcl\n",
      "read_all_pdb_files 0 9\n",
      "animate write dcd /home/ytcdata/curves_data/pnas_dna/discre_pdb_dcd/discretized.dcd beg 0 end 9 waitfor all\n",
      "----Finish----\n"
     ]
    }
   ],
   "source": [
    "compressor = Compressor(rootfolder, host)\n",
    "compressor.make_ref_pdb()\n",
    "compressor.compress_allpdbs_to_dcd(start_frame, stop_frame)"
   ]
  },
  {
   "cell_type": "code",
   "execution_count": 4,
   "id": "61bafc3e-bbeb-4cd7-9271-0a141775ed97",
   "metadata": {},
   "outputs": [
    {
     "name": "stdout",
     "output_type": "stream",
     "text": [
      "----Enter the following into terminal----\n",
      "vmd -pdb /home/ytcdata/curves_data/pnas_dna/discre_pdb_dcd/discretized.pdb /home/ytcdata/curves_data/pnas_dna/discre_pdb_dcd/discretized.dcd\n",
      "----Enter the following into VMD tkconsole----\n",
      "mol new /home/ytcdata/curves_data/pnas_dna/pdb_xtc/input.pdb\n",
      "mol addfile /home/ytcdata/curves_data/pnas_dna/pdb_xtc/input.xtc type xtc first 0 last -1 step 1 waitfor all 1\n",
      "----Finish----\n"
     ]
    }
   ],
   "source": [
    "compressor.check_result_fit_original_traj()"
   ]
  }
 ],
 "metadata": {
  "kernelspec": {
   "display_name": "Python 3 (ipykernel)",
   "language": "python",
   "name": "python3"
  },
  "language_info": {
   "codemirror_mode": {
    "name": "ipython",
    "version": 3
   },
   "file_extension": ".py",
   "mimetype": "text/x-python",
   "name": "python",
   "nbconvert_exporter": "python",
   "pygments_lexer": "ipython3",
   "version": "3.8.12"
  }
 },
 "nbformat": 4,
 "nbformat_minor": 5
}
