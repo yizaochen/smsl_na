{
 "cells": [
  {
   "cell_type": "code",
   "execution_count": 1,
   "metadata": {},
   "outputs": [],
   "source": [
    "from bentdna import curve_pl, shapefourier\n",
    "bentna_folder = '/home/yizaochen/codes/dna_rna/length_effect/find_helical_axis'"
   ]
  },
  {
   "cell_type": "code",
   "execution_count": 2,
   "metadata": {},
   "outputs": [],
   "source": [
    "n_begin = 0\n",
    "n_end = 9\n",
    "lastframe = 50000"
   ]
  },
  {
   "cell_type": "code",
   "execution_count": 4,
   "metadata": {},
   "outputs": [
    {
     "name": "stdout",
     "output_type": "stream",
     "text": [
      "/home/yizaochen/codes/dna_rna/length_effect/find_helical_axis/tat_21mer/an_folder exists\n"
     ]
    }
   ],
   "source": [
    "host = 'tat_21mer'\n",
    "s_agent = shapefourier.ShapeAgent(bentna_folder, host)\n",
    "s_agent.read_l_modulus_theta()\n",
    "df_an = s_agent.make_df_an(n_begin, n_end, lastframe)"
   ]
  },
  {
   "cell_type": "code",
   "execution_count": 5,
   "metadata": {},
   "outputs": [
    {
     "name": "stderr",
     "output_type": "stream",
     "text": [
      "/home/yizaochen/miniconda3/envs/bentdna/lib/python3.8/site-packages/MDAnalysis/topology/PDBParser.py:330: UserWarning: Element information is absent or missing for a few atoms. Elements attributes will not be populated.\n",
      "  warnings.warn(\"Element information is absent or missing for a few \"\n"
     ]
    },
    {
     "name": "stdout",
     "output_type": "stream",
     "text": [
      "/home/yizaochen/codes/dna_rna/length_effect/find_helical_axis/g_tract_21mer/l_theta exists\n",
      "make /home/yizaochen/codes/dna_rna/length_effect/find_helical_axis/g_tract_21mer/l_theta/l_modulus_theta_21_beads.csv\n",
      "/home/yizaochen/codes/dna_rna/length_effect/find_helical_axis/g_tract_21mer/an_folder exists\n"
     ]
    },
    {
     "name": "stderr",
     "output_type": "stream",
     "text": [
      "/home/yizaochen/miniconda3/envs/bentdna/lib/python3.8/site-packages/MDAnalysis/topology/PDBParser.py:330: UserWarning: Element information is absent or missing for a few atoms. Elements attributes will not be populated.\n",
      "  warnings.warn(\"Element information is absent or missing for a few \"\n"
     ]
    },
    {
     "name": "stdout",
     "output_type": "stream",
     "text": [
      "/home/yizaochen/codes/dna_rna/length_effect/find_helical_axis/gcgc_21mer/l_theta exists\n",
      "make /home/yizaochen/codes/dna_rna/length_effect/find_helical_axis/gcgc_21mer/l_theta/l_modulus_theta_21_beads.csv\n",
      "/home/yizaochen/codes/dna_rna/length_effect/find_helical_axis/gcgc_21mer/an_folder exists\n"
     ]
    },
    {
     "name": "stderr",
     "output_type": "stream",
     "text": [
      "/home/yizaochen/miniconda3/envs/bentdna/lib/python3.8/site-packages/MDAnalysis/topology/PDBParser.py:330: UserWarning: Element information is absent or missing for a few atoms. Elements attributes will not be populated.\n",
      "  warnings.warn(\"Element information is absent or missing for a few \"\n"
     ]
    },
    {
     "name": "stdout",
     "output_type": "stream",
     "text": [
      "/home/yizaochen/codes/dna_rna/length_effect/find_helical_axis/atat_21mer/l_theta exists\n",
      "make /home/yizaochen/codes/dna_rna/length_effect/find_helical_axis/atat_21mer/l_theta/l_modulus_theta_21_beads.csv\n",
      "/home/yizaochen/codes/dna_rna/length_effect/find_helical_axis/atat_21mer/an_folder exists\n"
     ]
    },
    {
     "name": "stderr",
     "output_type": "stream",
     "text": [
      "/home/yizaochen/miniconda3/envs/bentdna/lib/python3.8/site-packages/MDAnalysis/topology/PDBParser.py:330: UserWarning: Element information is absent or missing for a few atoms. Elements attributes will not be populated.\n",
      "  warnings.warn(\"Element information is absent or missing for a few \"\n"
     ]
    },
    {
     "name": "stdout",
     "output_type": "stream",
     "text": [
      "/home/yizaochen/codes/dna_rna/length_effect/find_helical_axis/tat_1_21mer/l_theta exists\n",
      "make /home/yizaochen/codes/dna_rna/length_effect/find_helical_axis/tat_1_21mer/l_theta/l_modulus_theta_21_beads.csv\n",
      "/home/yizaochen/codes/dna_rna/length_effect/find_helical_axis/tat_1_21mer/an_folder exists\n"
     ]
    },
    {
     "name": "stderr",
     "output_type": "stream",
     "text": [
      "/home/yizaochen/miniconda3/envs/bentdna/lib/python3.8/site-packages/MDAnalysis/topology/PDBParser.py:330: UserWarning: Element information is absent or missing for a few atoms. Elements attributes will not be populated.\n",
      "  warnings.warn(\"Element information is absent or missing for a few \"\n"
     ]
    },
    {
     "name": "stdout",
     "output_type": "stream",
     "text": [
      "/home/yizaochen/codes/dna_rna/length_effect/find_helical_axis/tat_2_21mer/l_theta exists\n",
      "make /home/yizaochen/codes/dna_rna/length_effect/find_helical_axis/tat_2_21mer/l_theta/l_modulus_theta_21_beads.csv\n",
      "/home/yizaochen/codes/dna_rna/length_effect/find_helical_axis/tat_2_21mer/an_folder exists\n"
     ]
    },
    {
     "name": "stderr",
     "output_type": "stream",
     "text": [
      "/home/yizaochen/miniconda3/envs/bentdna/lib/python3.8/site-packages/MDAnalysis/topology/PDBParser.py:330: UserWarning: Element information is absent or missing for a few atoms. Elements attributes will not be populated.\n",
      "  warnings.warn(\"Element information is absent or missing for a few \"\n"
     ]
    },
    {
     "name": "stdout",
     "output_type": "stream",
     "text": [
      "/home/yizaochen/codes/dna_rna/length_effect/find_helical_axis/tat_3_21mer/l_theta exists\n",
      "make /home/yizaochen/codes/dna_rna/length_effect/find_helical_axis/tat_3_21mer/l_theta/l_modulus_theta_21_beads.csv\n",
      "/home/yizaochen/codes/dna_rna/length_effect/find_helical_axis/tat_3_21mer/an_folder exists\n"
     ]
    }
   ],
   "source": [
    "hosts = ['g_tract_21mer', 'gcgc_21mer', 'atat_21mer', 'tat_1_21mer', 'tat_2_21mer', 'tat_3_21mer']\n",
    "for host in hosts:\n",
    "    l_theta = curve_pl.LmodulusTheta(host)\n",
    "    l_theta.make_l_modulus_theta()\n",
    "    s_agent = shapefourier.ShapeAgent(bentna_folder, host)\n",
    "    s_agent.read_l_modulus_theta()\n",
    "    df_an = s_agent.make_df_an(n_begin, n_end, lastframe)"
   ]
  },
  {
   "cell_type": "code",
   "execution_count": null,
   "metadata": {},
   "outputs": [],
   "source": []
  }
 ],
 "metadata": {
  "kernelspec": {
   "display_name": "Python 3 (ipykernel)",
   "language": "python",
   "name": "python3"
  },
  "language_info": {
   "codemirror_mode": {
    "name": "ipython",
    "version": 3
   },
   "file_extension": ".py",
   "mimetype": "text/x-python",
   "name": "python",
   "nbconvert_exporter": "python",
   "pygments_lexer": "ipython3",
   "version": "3.8.12"
  }
 },
 "nbformat": 4,
 "nbformat_minor": 4
}
