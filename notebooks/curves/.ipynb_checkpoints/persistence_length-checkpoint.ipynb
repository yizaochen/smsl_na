{
 "cells": [
  {
   "cell_type": "code",
   "execution_count": 20,
   "id": "804820d6-c184-4e73-b924-da4ea93dd35f",
   "metadata": {},
   "outputs": [],
   "source": [
    "from curves.persistence_length import BigWindowPersistenceLength, SmallWindowPersistenceLength"
   ]
  },
  {
   "cell_type": "code",
   "execution_count": 21,
   "id": "971668f3-623a-4d11-bbcb-63166290c0df",
   "metadata": {},
   "outputs": [],
   "source": [
    "rootfolder = '/home/ytcdata/curves_data'\n",
    "host = 'a_tract_21mer'"
   ]
  },
  {
   "cell_type": "code",
   "execution_count": 22,
   "id": "3130face-0c68-4118-bc2e-d224d6a217c1",
   "metadata": {},
   "outputs": [],
   "source": [
    "big_agent = BigWindowPersistenceLength(rootfolder, host)"
   ]
  },
  {
   "cell_type": "code",
   "execution_count": 8,
   "id": "4aea406d-b127-437a-87b9-3f78741fae27",
   "metadata": {},
   "outputs": [
    {
     "name": "stdout",
     "output_type": "stream",
     "text": [
      "Read /home/ytcdata/curves_data/pnas_rna/bend_shape/fourier_amplitude.hdf5\n",
      "Write DataFrame into /home/ytcdata/curves_data/pnas_rna/bend_shape/persistence_length_big_wn.csv\n",
      "Read /home/ytcdata/curves_data/pnas_rna/bend_shape/persistence_length_big_wn.csv into df_lp\n"
     ]
    },
    {
     "name": "stderr",
     "output_type": "stream",
     "text": [
      "/home/yizaochen/codes/smsl_na/curves/curves/persistence_length.py:271: RuntimeWarning: divide by zero encountered in double_scalars\n",
      "  return np.square(appr_length) / (np.square(mode_id) * np.square(np.pi) * var_an)\n"
     ]
    },
    {
     "data": {
      "text/html": [
       "<div>\n",
       "<style scoped>\n",
       "    .dataframe tbody tr th:only-of-type {\n",
       "        vertical-align: middle;\n",
       "    }\n",
       "\n",
       "    .dataframe tbody tr th {\n",
       "        vertical-align: top;\n",
       "    }\n",
       "\n",
       "    .dataframe thead th {\n",
       "        text-align: right;\n",
       "    }\n",
       "</style>\n",
       "<table border=\"1\" class=\"dataframe\">\n",
       "  <thead>\n",
       "    <tr style=\"text-align: right;\">\n",
       "      <th></th>\n",
       "      <th>n=0</th>\n",
       "      <th>n=1</th>\n",
       "      <th>n=2</th>\n",
       "      <th>n=3</th>\n",
       "      <th>n=4</th>\n",
       "      <th>n=5</th>\n",
       "      <th>n=6</th>\n",
       "      <th>n=7</th>\n",
       "      <th>n=8</th>\n",
       "      <th>n=9</th>\n",
       "    </tr>\n",
       "  </thead>\n",
       "  <tbody>\n",
       "    <tr>\n",
       "      <th>0</th>\n",
       "      <td>inf</td>\n",
       "      <td>140.269601</td>\n",
       "      <td>48.212292</td>\n",
       "      <td>75.687409</td>\n",
       "      <td>65.41006</td>\n",
       "      <td>92.66561</td>\n",
       "      <td>110.31634</td>\n",
       "      <td>97.601338</td>\n",
       "      <td>80.183187</td>\n",
       "      <td>59.070361</td>\n",
       "    </tr>\n",
       "  </tbody>\n",
       "</table>\n",
       "</div>"
      ],
      "text/plain": [
       "   n=0         n=1        n=2        n=3       n=4       n=5        n=6  \\\n",
       "0  inf  140.269601  48.212292  75.687409  65.41006  92.66561  110.31634   \n",
       "\n",
       "         n=7        n=8        n=9  \n",
       "0  97.601338  80.183187  59.070361  "
      ]
     },
     "execution_count": 8,
     "metadata": {},
     "output_type": "execute_result"
    }
   ],
   "source": [
    "#big_agent.make_lp_big_wn_csv()\n",
    "big_agent.read_lp_big_wn_csv()\n",
    "big_agent.df_lp"
   ]
  },
  {
   "cell_type": "code",
   "execution_count": 19,
   "id": "b72e6c2f-d5e1-4077-bc0d-0b8d47b4dde2",
   "metadata": {},
   "outputs": [
    {
     "name": "stdout",
     "output_type": "stream",
     "text": [
      "Read /home/ytcdata/curves_data/pnas_dna/bend_shape/persistence_length_big_wn.csv into df_lp\n"
     ]
    },
    {
     "data": {
      "text/html": [
       "<div>\n",
       "<style scoped>\n",
       "    .dataframe tbody tr th:only-of-type {\n",
       "        vertical-align: middle;\n",
       "    }\n",
       "\n",
       "    .dataframe tbody tr th {\n",
       "        vertical-align: top;\n",
       "    }\n",
       "\n",
       "    .dataframe thead th {\n",
       "        text-align: right;\n",
       "    }\n",
       "</style>\n",
       "<table border=\"1\" class=\"dataframe\">\n",
       "  <thead>\n",
       "    <tr style=\"text-align: right;\">\n",
       "      <th></th>\n",
       "      <th>n=0</th>\n",
       "      <th>n=1</th>\n",
       "      <th>n=2</th>\n",
       "      <th>n=3</th>\n",
       "      <th>n=4</th>\n",
       "      <th>n=5</th>\n",
       "      <th>n=6</th>\n",
       "      <th>n=7</th>\n",
       "      <th>n=8</th>\n",
       "      <th>n=9</th>\n",
       "    </tr>\n",
       "  </thead>\n",
       "  <tbody>\n",
       "    <tr>\n",
       "      <th>0</th>\n",
       "      <td>inf</td>\n",
       "      <td>95.480646</td>\n",
       "      <td>60.48592</td>\n",
       "      <td>78.674883</td>\n",
       "      <td>96.150195</td>\n",
       "      <td>112.786783</td>\n",
       "      <td>140.922827</td>\n",
       "      <td>123.59691</td>\n",
       "      <td>86.454778</td>\n",
       "      <td>164.407659</td>\n",
       "    </tr>\n",
       "  </tbody>\n",
       "</table>\n",
       "</div>"
      ],
      "text/plain": [
       "   n=0        n=1       n=2        n=3        n=4         n=5         n=6  \\\n",
       "0  inf  95.480646  60.48592  78.674883  96.150195  112.786783  140.922827   \n",
       "\n",
       "         n=7        n=8         n=9  \n",
       "0  123.59691  86.454778  164.407659  "
      ]
     },
     "execution_count": 19,
     "metadata": {},
     "output_type": "execute_result"
    }
   ],
   "source": [
    "#big_agent.make_lp_big_wn_csv()\n",
    "big_agent.read_lp_big_wn_csv()\n",
    "big_agent.df_lp"
   ]
  },
  {
   "cell_type": "code",
   "execution_count": 14,
   "id": "1776596d-fcd4-4df3-aa3a-74ebe15e5cd4",
   "metadata": {},
   "outputs": [
    {
     "name": "stdout",
     "output_type": "stream",
     "text": [
      "Read /home/ytcdata/curves_data/pnas_dna/bend_shape/fourier_amplitude.hdf5\n"
     ]
    }
   ],
   "source": [
    "if host in ['pnas_dna', 'pnas_rna']:\n",
    "    n_frames_per_window = 2000\n",
    "else:\n",
    "    n_frames_per_window = 5000\n",
    "#n_frames_per_window = 4\n",
    "\n",
    "small_agent = SmallWindowPersistenceLength(rootfolder, host, n_frames_per_window)"
   ]
  },
  {
   "cell_type": "code",
   "execution_count": 10,
   "id": "d541d677-8a24-419d-9a07-56a5ceef3ba9",
   "metadata": {},
   "outputs": [
    {
     "name": "stdout",
     "output_type": "stream",
     "text": [
      "Write DataFrame into /home/ytcdata/curves_data/pnas_rna/bend_shape/persistence_length_small_wn.csv\n"
     ]
    },
    {
     "name": "stderr",
     "output_type": "stream",
     "text": [
      "/home/yizaochen/miniconda3/envs/smsl_na/lib/python3.8/site-packages/MDAnalysis/topology/PDBParser.py:317: UserWarning: Element information is missing, elements attribute will not be populated. If needed these can be guessed using MDAnalysis.topology.guessers.\n",
      "  warnings.warn(\"Element information is missing, elements attribute \"\n",
      "/home/yizaochen/codes/smsl_na/curves/curves/persistence_length.py:271: RuntimeWarning: divide by zero encountered in double_scalars\n",
      "  return np.square(appr_length) / (np.square(mode_id) * np.square(np.pi) * var_an)\n"
     ]
    }
   ],
   "source": [
    "small_agent.make_lp_small_wn_csv()\n",
    "#small_agent.read_lp_small_wn_csv()\n",
    "#small_agent.df_lp"
   ]
  },
  {
   "cell_type": "code",
   "execution_count": 15,
   "id": "2368d142-9940-47a9-845e-224a397eebbc",
   "metadata": {},
   "outputs": [
    {
     "name": "stdout",
     "output_type": "stream",
     "text": [
      "Read /home/ytcdata/curves_data/pnas_dna/bend_shape/persistence_length_small_wn.csv into df_lp\n",
      "Mode-ID: 3\n",
      "Lp =79.5±5.1\n"
     ]
    }
   ],
   "source": [
    "mode_id = 2\n",
    "small_agent.print_avg_std(mode_id)"
   ]
  },
  {
   "cell_type": "code",
   "execution_count": null,
   "id": "ef581243-bd3b-4c47-ab8c-18bede3f3838",
   "metadata": {},
   "outputs": [],
   "source": []
  }
 ],
 "metadata": {
  "kernelspec": {
   "display_name": "Python 3 (ipykernel)",
   "language": "python",
   "name": "python3"
  },
  "language_info": {
   "codemirror_mode": {
    "name": "ipython",
    "version": 3
   },
   "file_extension": ".py",
   "mimetype": "text/x-python",
   "name": "python",
   "nbconvert_exporter": "python",
   "pygments_lexer": "ipython3",
   "version": "3.8.12"
  }
 },
 "nbformat": 4,
 "nbformat_minor": 5
}
