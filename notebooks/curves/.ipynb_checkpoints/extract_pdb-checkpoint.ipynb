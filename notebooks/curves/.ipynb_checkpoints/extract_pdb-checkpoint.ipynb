{
 "cells": [
  {
   "cell_type": "code",
   "execution_count": 1,
   "id": "0119997b-612f-4dcd-867e-8d9453c0b6a6",
   "metadata": {},
   "outputs": [],
   "source": [
    "from curves.curves import ExtractPDBAgent"
   ]
  },
  {
   "cell_type": "code",
   "execution_count": 2,
   "id": "c4be2abc-b7f9-4803-a4f8-1a0a4ec80d38",
   "metadata": {},
   "outputs": [
    {
     "name": "stderr",
     "output_type": "stream",
     "text": [
      "/home/yizaochen/miniconda3/envs/smsl_na/lib/python3.8/site-packages/MDAnalysis/topology/PDBParser.py:317: UserWarning: Element information is missing, elements attribute will not be populated. If needed these can be guessed using MDAnalysis.topology.guessers.\n",
      "  warnings.warn(\"Element information is missing, elements attribute \"\n"
     ]
    }
   ],
   "source": [
    "rootfolder = '/home/ytcdata/curves_data'\n",
    "host = 'pnas_dna'\n",
    "e_agent = ExtractPDBAgent(rootfolder, host)"
   ]
  },
  {
   "cell_type": "code",
   "execution_count": 3,
   "id": "d021aceb-16ad-4db3-960b-defad95e636a",
   "metadata": {},
   "outputs": [
    {
     "name": "stdout",
     "output_type": "stream",
     "text": [
      "n_frame: 10\n"
     ]
    }
   ],
   "source": [
    "e_agent.print_n_frames()"
   ]
  },
  {
   "cell_type": "code",
   "execution_count": 4,
   "id": "114585c4-09f2-422e-b79c-f1f344bca107",
   "metadata": {},
   "outputs": [
    {
     "name": "stderr",
     "output_type": "stream",
     "text": [
      "/home/yizaochen/miniconda3/envs/smsl_na/lib/python3.8/site-packages/MDAnalysis/coordinates/PDB.py:1078: UserWarning: Found no information for attr: 'elements' Using default value of ' '\n",
      "  warnings.warn(\"Found no information for attr: '{}'\"\n",
      "/home/yizaochen/miniconda3/envs/smsl_na/lib/python3.8/site-packages/MDAnalysis/coordinates/PDB.py:1124: UserWarning: Found missing chainIDs. Corresponding atoms will use value of 'X'\n",
      "  warnings.warn(\"Found missing chainIDs.\"\n"
     ]
    }
   ],
   "source": [
    "start_frame = 0 # start from 0\n",
    "end_frame = 10\n",
    "e_agent.extract_pdb_from_xtc(start_frame, end_frame)"
   ]
  },
  {
   "cell_type": "code",
   "execution_count": null,
   "id": "3e1ad38f-896f-4fcb-98f7-771399f7a164",
   "metadata": {},
   "outputs": [],
   "source": []
  }
 ],
 "metadata": {
  "kernelspec": {
   "display_name": "Python 3 (ipykernel)",
   "language": "python",
   "name": "python3"
  },
  "language_info": {
   "codemirror_mode": {
    "name": "ipython",
    "version": 3
   },
   "file_extension": ".py",
   "mimetype": "text/x-python",
   "name": "python",
   "nbconvert_exporter": "python",
   "pygments_lexer": "ipython3",
   "version": "3.8.12"
  }
 },
 "nbformat": 4,
 "nbformat_minor": 5
}
