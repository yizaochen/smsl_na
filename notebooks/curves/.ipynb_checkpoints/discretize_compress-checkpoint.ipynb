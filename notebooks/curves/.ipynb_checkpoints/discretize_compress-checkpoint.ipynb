{
 "cells": [
  {
   "cell_type": "code",
   "execution_count": 3,
   "id": "e7365145-0aba-42ab-86c3-d39ca95c3c84",
   "metadata": {},
   "outputs": [],
   "source": [
    "from curves.persistence_length import FoldersBuilder, Discretizer, Compressor"
   ]
  },
  {
   "cell_type": "code",
   "execution_count": 26,
   "id": "a9ff713d-a0f9-4ed5-bafe-51033813f68c",
   "metadata": {},
   "outputs": [],
   "source": [
    "rootfolder = '/home/ytcdata/curves_data'\n",
    "host = 'tgtg_21mer'\n",
    "start_frame = 0\n",
    "stop_frame = 50001"
   ]
  },
  {
   "cell_type": "code",
   "execution_count": 27,
   "id": "baab2269-9475-4a53-a6ab-5e1555afee4a",
   "metadata": {},
   "outputs": [
    {
     "name": "stdout",
     "output_type": "stream",
     "text": [
      "/home/ytcdata/curves_data/tgtg_21mer/haxis_discretize exists\n",
      "/home/ytcdata/curves_data/tgtg_21mer/discre_pdb_dcd exists\n",
      "/home/ytcdata/curves_data/tgtg_21mer/bend_shape exists\n"
     ]
    }
   ],
   "source": [
    "builder = FoldersBuilder(rootfolder, host)\n",
    "builder.initialize_folders()"
   ]
  },
  {
   "cell_type": "code",
   "execution_count": 28,
   "id": "2d2ddc59-1112-40b1-bf65-55785ff996db",
   "metadata": {},
   "outputs": [],
   "source": [
    "# batch processing: discretize.py\n",
    "#discretizer = Discretizer(rootfolder, host)\n",
    "#discretizer.discretize_haxis_to_pdb(start_frame, stop_frame)"
   ]
  },
  {
   "cell_type": "code",
   "execution_count": 29,
   "id": "d98cebdd-0104-480a-9450-8bec9c8f93f8",
   "metadata": {},
   "outputs": [
    {
     "name": "stdout",
     "output_type": "stream",
     "text": [
      "/home/ytcdata/curves_data/tgtg_21mer/discre_pdb_dcd/discretized.pdb not exist!!!!!!\n",
      "cp /home/ytcdata/curves_data/tgtg_21mer/haxis_discretize/0.pdb /home/ytcdata/curves_data/tgtg_21mer/discre_pdb_dcd/discretized.pdb\n",
      "----Enter the following into terminal----\n",
      "cd /home/ytcdata/curves_data/tgtg_21mer/haxis_discretize\n",
      "vmd\n",
      "----Enter the following into VMD tkconsole----\n",
      "source /home/yizaochen/codes/smsl_na/curves/tcl_scripts/make_haxis.tcl\n",
      "read_all_pdb_files 0 50000\n",
      "animate write dcd /home/ytcdata/curves_data/tgtg_21mer/discre_pdb_dcd/discretized.dcd beg 0 end 50000 waitfor all\n",
      "----Finish----\n"
     ]
    }
   ],
   "source": [
    "compressor = Compressor(rootfolder, host)\n",
    "compressor.make_ref_pdb()\n",
    "compressor.compress_allpdbs_to_dcd(start_frame, stop_frame)"
   ]
  },
  {
   "cell_type": "code",
   "execution_count": 30,
   "id": "61bafc3e-bbeb-4cd7-9271-0a141775ed97",
   "metadata": {},
   "outputs": [
    {
     "name": "stdout",
     "output_type": "stream",
     "text": [
      "----Enter the following into terminal----\n",
      "vmd -pdb /home/ytcdata/curves_data/tgtg_21mer/discre_pdb_dcd/discretized.pdb /home/ytcdata/curves_data/tgtg_21mer/discre_pdb_dcd/discretized.dcd\n",
      "----Enter the following into VMD tkconsole----\n",
      "mol new /home/ytcdata/curves_data/tgtg_21mer/pdb_xtc/input.pdb\n",
      "mol addfile /home/ytcdata/curves_data/tgtg_21mer/pdb_xtc/input.xtc type xtc first 0 last -1 step 1 waitfor all 1\n",
      "----Finish----\n"
     ]
    }
   ],
   "source": [
    "compressor.check_result_fit_original_traj()"
   ]
  },
  {
   "cell_type": "markdown",
   "id": "4d9d8d42-ca20-47ae-82e0-d5d0572df8ea",
   "metadata": {},
   "source": [
    "### Check the number of frames"
   ]
  },
  {
   "cell_type": "code",
   "execution_count": 8,
   "id": "fb486363-4f09-47af-90f8-08d5fc2bca72",
   "metadata": {},
   "outputs": [],
   "source": [
    "from curves.curves_main_util import ExtractPDBAgent"
   ]
  },
  {
   "cell_type": "code",
   "execution_count": 9,
   "id": "dee28687-632d-472f-89d8-f6b2903baebf",
   "metadata": {},
   "outputs": [],
   "source": [
    "rootfolder = '/home/ytcdata/curves_data'\n",
    "host = 'a_tract_21mer'"
   ]
  },
  {
   "cell_type": "code",
   "execution_count": 10,
   "id": "1a07e099-adae-4c8a-8a49-a5d8ed49329a",
   "metadata": {},
   "outputs": [
    {
     "name": "stdout",
     "output_type": "stream",
     "text": [
      "n_frame: 50001\n"
     ]
    },
    {
     "name": "stderr",
     "output_type": "stream",
     "text": [
      "/home/yizaochen/miniconda3/envs/smsl_na/lib/python3.8/site-packages/MDAnalysis/topology/PDBParser.py:317: UserWarning: Element information is missing, elements attribute will not be populated. If needed these can be guessed using MDAnalysis.topology.guessers.\n",
      "  warnings.warn(\"Element information is missing, elements attribute \"\n"
     ]
    }
   ],
   "source": [
    "extract_agent = ExtractPDBAgent(rootfolder, host)\n",
    "extract_agent.print_n_frames()"
   ]
  },
  {
   "cell_type": "code",
   "execution_count": null,
   "id": "1f49dd6e-6e4c-411a-bc22-c108ce344a2f",
   "metadata": {},
   "outputs": [],
   "source": []
  }
 ],
 "metadata": {
  "kernelspec": {
   "display_name": "Python 3",
   "language": "python",
   "name": "python3"
  },
  "language_info": {
   "codemirror_mode": {
    "name": "ipython",
    "version": 3
   },
   "file_extension": ".py",
   "mimetype": "text/x-python",
   "name": "python",
   "nbconvert_exporter": "python",
   "pygments_lexer": "ipython3",
   "version": "3.8.12"
  }
 },
 "nbformat": 4,
 "nbformat_minor": 5
}
