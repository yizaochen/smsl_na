{
 "cells": [
  {
   "cell_type": "code",
   "execution_count": 1,
   "id": "42a5c327-e86f-43af-9337-9725e5218b9c",
   "metadata": {},
   "outputs": [],
   "source": [
    "from curves.persistence_length import LNormTheta, FourierShape"
   ]
  },
  {
   "cell_type": "code",
   "execution_count": 2,
   "id": "c5ce42f0-385d-4100-995d-b484473fe0dd",
   "metadata": {
    "tags": []
   },
   "outputs": [],
   "source": [
    "rootfolder = '/home/ytcdata/curves_data'\n",
    "host = 'pnas_dna'"
   ]
  },
  {
   "cell_type": "code",
   "execution_count": 3,
   "id": "f81ae1df-c62f-4286-b1b0-6c30d8cad9a9",
   "metadata": {},
   "outputs": [
    {
     "name": "stderr",
     "output_type": "stream",
     "text": [
      "/home/yizaochen/miniconda3/envs/smsl_na/lib/python3.8/site-packages/MDAnalysis/topology/PDBParser.py:317: UserWarning: Element information is missing, elements attribute will not be populated. If needed these can be guessed using MDAnalysis.topology.guessers.\n",
      "  warnings.warn(\"Element information is missing, elements attribute \"\n"
     ]
    }
   ],
   "source": [
    "l_agent = LNormTheta(rootfolder, host)"
   ]
  },
  {
   "cell_type": "code",
   "execution_count": 4,
   "id": "932674f6-6cfd-421a-8d71-07a051837cd5",
   "metadata": {},
   "outputs": [],
   "source": [
    "#l_agent.make_l_norm_theta_hd5()"
   ]
  },
  {
   "cell_type": "code",
   "execution_count": 9,
   "id": "d3439c3d-bfc5-4e36-bf26-d539f53d77eb",
   "metadata": {},
   "outputs": [
    {
     "name": "stdout",
     "output_type": "stream",
     "text": [
      "Read /home/ytcdata/curves_data/pnas_dna/bend_shape/l_norm_theta.hdf5\n",
      "(1050,)\n"
     ]
    },
    {
     "data": {
      "text/plain": [
       "{'Frame_ID': array([0, 0, 0, ..., 9, 9, 9]),\n",
       " 'i': array([ 0,  0,  0, ..., 12, 12, 13]),\n",
       " 'j': array([ 1,  2,  3, ..., 13, 14, 14]),\n",
       " '|l_i|': array([3.6289747, 3.6289747, 3.6289747, ..., 3.0043044, 3.0043044,\n",
       "        3.3966656], dtype=float32),\n",
       " '|l_j|': array([2.8056517, 3.566096 , 3.3468218, ..., 3.3966656, 2.87549  ,\n",
       "        2.87549  ], dtype=float32),\n",
       " 'theta': array([0.07805015, 0.14828957, 0.18950929, ..., 0.03515806, 0.04994851,\n",
       "        0.05468777])}"
      ]
     },
     "execution_count": 9,
     "metadata": {},
     "output_type": "execute_result"
    }
   ],
   "source": [
    "l_agent.read_l_modulus_theta_hd5()\n",
    "print(l_agent.d_result['Frame_ID'].shape)\n",
    "l_agent.d_result"
   ]
  },
  {
   "cell_type": "code",
   "execution_count": 4,
   "id": "314fa66f-4749-442e-b553-5e39c9dcb6d3",
   "metadata": {},
   "outputs": [],
   "source": [
    "shape = FourierShape(rootfolder, host)"
   ]
  },
  {
   "cell_type": "code",
   "execution_count": 5,
   "id": "8e563889-0b89-49a8-924b-5a70abb45675",
   "metadata": {},
   "outputs": [
    {
     "name": "stdout",
     "output_type": "stream",
     "text": [
      "Read /home/ytcdata/curves_data/pnas_dna/bend_shape/l_norm_theta.hdf5\n",
      "make /home/ytcdata/curves_data/pnas_dna/bend_shape/fourier_amplitude.hdf5\n"
     ]
    }
   ],
   "source": [
    "shape.make_fourier_amp_h5()"
   ]
  },
  {
   "cell_type": "code",
   "execution_count": 6,
   "id": "10d2905b-9d79-447c-8da4-4238b7b09e11",
   "metadata": {},
   "outputs": [
    {
     "name": "stdout",
     "output_type": "stream",
     "text": [
      "Read /home/ytcdata/curves_data/pnas_dna/bend_shape/fourier_amplitude.hdf5\n"
     ]
    },
    {
     "data": {
      "text/plain": [
       "{'0': array([0.66032943, 0.70832702, 0.63222531, 0.42733974, 0.26802502,\n",
       "        0.33715549, 0.53031451, 0.63647941, 0.78024534]),\n",
       " '1': array([-0.12304413, -0.19793234, -0.11870981, -0.22114007, -0.10752467,\n",
       "        -0.19131863, -0.12009055, -0.12781376, -0.16404694]),\n",
       " '2': array([ 0.00365407, -0.13748635, -0.11035721,  0.01736906,  0.0777656 ,\n",
       "         0.10226815, -0.04877003, -0.16240986, -0.13095938]),\n",
       " '3': array([-0.08159021, -0.04136659, -0.02357379,  0.00713223,  0.00484991,\n",
       "         0.01205022, -0.00198462,  0.0284823 , -0.00854354]),\n",
       " '4': array([ 0.02555407,  0.03192209,  0.02672359,  0.02406877, -0.00492181,\n",
       "        -0.01575839, -0.00746619, -0.02199752, -0.08587113]),\n",
       " '5': array([-0.02022552,  0.00816278, -0.00090226, -0.00366188, -0.01648389,\n",
       "         0.00727689, -0.02678682, -0.02810075, -0.0295139 ]),\n",
       " '6': array([ 1.48400214e-02,  4.11514964e-03,  3.90917202e-02,  5.86291292e-05,\n",
       "        -2.21488813e-02,  7.62342184e-03,  2.10219274e-02,  1.79868180e-02,\n",
       "         4.16768870e-03]),\n",
       " '7': array([-0.00868478,  0.0052217 ,  0.00109421, -0.02053899, -0.02148378,\n",
       "        -0.00719654,  0.00889323,  0.01535328,  0.01362113]),\n",
       " '8': array([ 0.0102973 ,  0.00319706, -0.02057863,  0.01641185, -0.00420799,\n",
       "         0.01234924,  0.00787678,  0.01026127,  0.00858095]),\n",
       " '9': array([-0.00632104,  0.00434553, -0.01222195,  0.00806247, -0.00920282,\n",
       "         0.0011726 ,  0.00533961,  0.00634803,  0.01109144])}"
      ]
     },
     "execution_count": 6,
     "metadata": {},
     "output_type": "execute_result"
    }
   ],
   "source": [
    "shape.read_fourier_amp_h5()\n",
    "shape.d_result"
   ]
  },
  {
   "cell_type": "code",
   "execution_count": null,
   "id": "d96d8b64-692a-4786-8fc0-c049deef9961",
   "metadata": {},
   "outputs": [],
   "source": []
  }
 ],
 "metadata": {
  "kernelspec": {
   "display_name": "Python 3 (ipykernel)",
   "language": "python",
   "name": "python3"
  },
  "language_info": {
   "codemirror_mode": {
    "name": "ipython",
    "version": 3
   },
   "file_extension": ".py",
   "mimetype": "text/x-python",
   "name": "python",
   "nbconvert_exporter": "python",
   "pygments_lexer": "ipython3",
   "version": "3.8.12"
  }
 },
 "nbformat": 4,
 "nbformat_minor": 5
}
